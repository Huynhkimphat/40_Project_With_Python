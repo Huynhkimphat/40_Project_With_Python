{
 "metadata": {
  "language_info": {
   "codemirror_mode": {
    "name": "ipython",
    "version": 3
   },
   "file_extension": ".py",
   "mimetype": "text/x-python",
   "name": "python",
   "nbconvert_exporter": "python",
   "pygments_lexer": "ipython3",
   "version": "3.6.4-final"
  },
  "orig_nbformat": 2,
  "kernelspec": {
   "name": "python3",
   "display_name": "Python 3",
   "language": "python"
  }
 },
 "nbformat": 4,
 "nbformat_minor": 2,
 "cells": [
  {
   "source": [
    "### Download A Single Video "
   ],
   "cell_type": "markdown",
   "metadata": {}
  },
  {
   "cell_type": "code",
   "execution_count": 1,
   "metadata": {},
   "outputs": [],
   "source": [
    "from pytube import YouTube"
   ]
  },
  {
   "cell_type": "code",
   "execution_count": 2,
   "metadata": {},
   "outputs": [],
   "source": [
    "SAVE_PATH=\"C:\\\\Users\\\\USER\\\\Downloads\""
   ]
  },
  {
   "cell_type": "code",
   "execution_count": 3,
   "metadata": {},
   "outputs": [],
   "source": [
    "link=input(\"Enter a link: \")"
   ]
  },
  {
   "cell_type": "code",
   "execution_count": 4,
   "metadata": {},
   "outputs": [
    {
     "output_type": "execute_result",
     "data": {
      "text/plain": [
       "'https://www.youtube.com/watch?v=262PMoup--4&list=PL5gadj-uDQtPdAx2AKLVg6pAXL7FwaF0o'"
      ]
     },
     "metadata": {},
     "execution_count": 4
    }
   ],
   "source": [
    "link"
   ]
  },
  {
   "cell_type": "code",
   "execution_count": 6,
   "metadata": {},
   "outputs": [
    {
     "output_type": "stream",
     "name": "stdout",
     "text": [
      "Success\n"
     ]
    }
   ],
   "source": [
    "try:\n",
    "    yt=YouTube(link)\n",
    "    print(\"Success\")\n",
    "except:\n",
    "    print(\"Connection Error\")"
   ]
  },
  {
   "cell_type": "code",
   "execution_count": 11,
   "metadata": {},
   "outputs": [
    {
     "output_type": "execute_result",
     "data": {
      "text/plain": [
       "\"Yêu Một Người Sao Buồn Đến Thế - Noo Phước Thịnh | Live @ Noo's Chill Night EP.02\""
      ]
     },
     "metadata": {},
     "execution_count": 11
    }
   ],
   "source": [
    "yt.title"
   ]
  },
  {
   "cell_type": "code",
   "execution_count": 12,
   "metadata": {},
   "outputs": [
    {
     "output_type": "error",
     "ename": "SyntaxError",
     "evalue": "invalid character in identifier (<ipython-input-12-20ba4f33aeee>, line 2)",
     "traceback": [
      "\u001b[1;36m  File \u001b[1;32m\"<ipython-input-12-20ba4f33aeee>\"\u001b[1;36m, line \u001b[1;32m2\u001b[0m\n\u001b[1;33m    print(“Title: “,yt.title)\u001b[0m\n\u001b[1;37m               ^\u001b[0m\n\u001b[1;31mSyntaxError\u001b[0m\u001b[1;31m:\u001b[0m invalid character in identifier\n"
     ]
    }
   ],
   "source": [
    "# #Title of video\n",
    "# print(“Title: “,yt.title)\n",
    "# #Number of views of video\n",
    "# print(“Number of views: “,yt.views)\n",
    "# #Length of the video\n",
    "# print(“Length of video: “,yt.length,”seconds”)\n",
    "# #Description of video\n",
    "# print(\"Description: \",yt.description)\n",
    "# #Rating\n",
    "# print(\"Ratings: \",yt.rating)"
   ]
  },
  {
   "cell_type": "code",
   "execution_count": 13,
   "metadata": {},
   "outputs": [
    {
     "output_type": "execute_result",
     "data": {
      "text/plain": [
       "'C:\\\\Users\\\\USER\\\\Downloads\\\\Chợt Thấy Em Khóc - Noo Phước Thịnh  Live @ Noos Chill Night EP02.mp4'"
      ]
     },
     "metadata": {},
     "execution_count": 13
    }
   ],
   "source": [
    "stream = yt.streams.first()\n",
    "stream.download(SAVE_PATH)"
   ]
  },
  {
   "cell_type": "code",
   "execution_count": null,
   "metadata": {},
   "outputs": [],
   "source": []
  }
 ]
}